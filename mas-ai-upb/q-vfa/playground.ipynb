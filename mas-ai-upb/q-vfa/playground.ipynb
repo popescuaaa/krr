{
 "cells": [
  {
   "cell_type": "markdown",
   "metadata": {},
   "source": [
    "## Q leaning with value function aproximation"
   ]
  },
  {
   "cell_type": "code",
   "execution_count": 23,
   "metadata": {},
   "outputs": [
    {
     "name": "stdout",
     "output_type": "stream",
     "text": [
      "Collecting wandb\n",
      "  Using cached wandb-0.12.13-py2.py3-none-any.whl (1.8 MB)\n",
      "Collecting setproctitle\n",
      "  Using cached setproctitle-1.2.2.tar.gz (23 kB)\n",
      "  Installing build dependencies: started\n",
      "  Installing build dependencies: finished with status 'done'\n",
      "  Getting requirements to build wheel: started\n",
      "  Getting requirements to build wheel: finished with status 'done'\n",
      "  Preparing metadata (pyproject.toml): started\n",
      "  Preparing metadata (pyproject.toml): finished with status 'done'\n",
      "Requirement already satisfied: Click!=8.0.0,>=7.0 in c:\\users\\popescu andrei\\anaconda3\\envs\\ml\\lib\\site-packages (from wandb) (8.0.3)\n",
      "Collecting GitPython>=1.0.0\n",
      "  Using cached GitPython-3.1.27-py3-none-any.whl (181 kB)\n",
      "Requirement already satisfied: six>=1.13.0 in c:\\users\\popescu andrei\\anaconda3\\envs\\ml\\lib\\site-packages (from wandb) (1.16.0)\n",
      "Collecting sentry-sdk>=1.0.0\n",
      "  Using cached sentry_sdk-1.5.8-py2.py3-none-any.whl (144 kB)\n",
      "Collecting protobuf>=3.12.0\n",
      "  Using cached protobuf-3.20.0-cp310-cp310-win_amd64.whl (903 kB)\n",
      "Requirement already satisfied: python-dateutil>=2.6.1 in c:\\users\\popescu andrei\\anaconda3\\envs\\ml\\lib\\site-packages (from wandb) (2.8.2)\n",
      "Collecting pathtools\n",
      "  Using cached pathtools-0.1.2-py3-none-any.whl\n",
      "Requirement already satisfied: requests<3,>=2.0.0 in c:\\users\\popescu andrei\\anaconda3\\envs\\ml\\lib\\site-packages (from wandb) (2.27.1)\n",
      "Collecting promise<3,>=2.0\n",
      "  Using cached promise-2.3-py3-none-any.whl\n",
      "Collecting shortuuid>=0.5.0\n",
      "  Using cached shortuuid-1.0.8-py3-none-any.whl (9.5 kB)\n",
      "Collecting PyYAML\n",
      "  Using cached PyYAML-6.0-cp310-cp310-win_amd64.whl (151 kB)\n",
      "Collecting docker-pycreds>=0.4.0\n",
      "  Using cached docker_pycreds-0.4.0-py2.py3-none-any.whl (9.0 kB)\n",
      "Collecting psutil>=5.0.0\n",
      "  Using cached psutil-5.9.0-cp310-cp310-win_amd64.whl (245 kB)\n",
      "Requirement already satisfied: colorama in c:\\users\\popescu andrei\\anaconda3\\envs\\ml\\lib\\site-packages (from Click!=8.0.0,>=7.0->wandb) (0.4.4)\n",
      "Collecting gitdb<5,>=4.0.1\n",
      "  Using cached gitdb-4.0.9-py3-none-any.whl (63 kB)\n",
      "Requirement already satisfied: charset-normalizer~=2.0.0 in c:\\users\\popescu andrei\\anaconda3\\envs\\ml\\lib\\site-packages (from requests<3,>=2.0.0->wandb) (2.0.12)\n",
      "Requirement already satisfied: urllib3<1.27,>=1.21.1 in c:\\users\\popescu andrei\\anaconda3\\envs\\ml\\lib\\site-packages (from requests<3,>=2.0.0->wandb) (1.26.9)\n",
      "Requirement already satisfied: idna<4,>=2.5 in c:\\users\\popescu andrei\\anaconda3\\envs\\ml\\lib\\site-packages (from requests<3,>=2.0.0->wandb) (3.3)\n",
      "Requirement already satisfied: certifi>=2017.4.17 in c:\\users\\popescu andrei\\anaconda3\\envs\\ml\\lib\\site-packages (from requests<3,>=2.0.0->wandb) (2020.6.20)\n",
      "Collecting smmap<6,>=3.0.1\n",
      "  Using cached smmap-5.0.0-py3-none-any.whl (24 kB)\n",
      "Building wheels for collected packages: setproctitle\n",
      "  Building wheel for setproctitle (pyproject.toml): started\n",
      "  Building wheel for setproctitle (pyproject.toml): finished with status 'error'\n",
      "Failed to build setproctitle\n"
     ]
    },
    {
     "name": "stderr",
     "output_type": "stream",
     "text": [
      "  error: subprocess-exited-with-error\n",
      "  \n",
      "  × Building wheel for setproctitle (pyproject.toml) did not run successfully.\n",
      "  │ exit code: 1\n",
      "  ╰─> [5 lines of output]\n",
      "      running bdist_wheel\n",
      "      running build\n",
      "      running build_ext\n",
      "      building 'setproctitle' extension\n",
      "      error: Microsoft Visual C++ 14.0 or greater is required. Get it with \"Microsoft C++ Build Tools\": https://visualstudio.microsoft.com/visual-cpp-build-tools/\n",
      "      [end of output]\n",
      "  \n",
      "  note: This error originates from a subprocess, and is likely not a problem with pip.\n",
      "  ERROR: Failed building wheel for setproctitle\n",
      "ERROR: Could not build wheels for setproctitle, which is required to install pyproject.toml-based projects\n"
     ]
    }
   ],
   "source": [
    "import numpy as np\n",
    "import gym\n",
    "import torch\n",
    "import torch.nn as nn\n",
    "import seaborn as sns\n",
    "import matplotlib.pyplot as plt\n",
    "from torch import Tensor\n",
    "from sklearn.preprocessing import StandardScaler\n",
    "from sklearn.pipeline import Pipeline, FeatureUnion\n",
    "from sklearn.kernel_approximation import RBFSampler\n"
   ]
  },
  {
   "cell_type": "markdown",
   "metadata": {},
   "source": [
    "### The sate of the environment \n",
    "- x: the car position\n",
    "- v: the linear speed of the car\n",
    "- theta: the angle of the pole\n",
    "- omega: the angular velocilty of the pole"
   ]
  },
  {
   "cell_type": "code",
   "execution_count": 17,
   "metadata": {},
   "outputs": [
    {
     "name": "stdout",
     "output_type": "stream",
     "text": [
      "[4.8000002e+00 3.4028235e+38 4.1887903e-01 3.4028235e+38]\n",
      "[-4.8000002e+00 -3.4028235e+38 -4.1887903e-01 -3.4028235e+38]\n"
     ]
    }
   ],
   "source": [
    "env = gym.make('CartPole-v1')\n",
    "env.reset()\n",
    "\n",
    "# Min and max values for each dimension\n",
    "print(env.observation_space.high)\n",
    "print(env.observation_space.low)"
   ]
  },
  {
   "cell_type": "code",
   "execution_count": 22,
   "metadata": {},
   "outputs": [],
   "source": [
    "observation_examples = np.array([env.observation_space.sample() for x in range(10000)])\n",
    "\n",
    "scaler = StandardScaler()\n",
    "\n",
    "# Feature extraction\n",
    "feature_generator = FeatureUnion([\n",
    "    (\"rbf1\", RBFSampler(gamma=5.0, n_components=100)),\n",
    "    (\"rbf2\", RBFSampler(gamma=2.0, n_components=100)),\n",
    "    (\"rbf3\", RBFSampler(gamma=1.0, n_components=100)),\n",
    "    (\"rbf4\", RBFSampler(gamma=0.5, n_components=100))\n",
    "])\n",
    "\n",
    "# feature_generator.fit(scaler.fit_transform(observation_examples))"
   ]
  },
  {
   "cell_type": "code",
   "execution_count": 11,
   "metadata": {},
   "outputs": [],
   "source": [
    "class Aproximator(nn.Module):\n",
    "    def __init__(self, input_size: int, output_size: int) -> None:\n",
    "        super(Aproximator, self).__init__()\n",
    "        self.linear = nn.Linear(in_features=input_size, out_features=output_size, bias=True)\n",
    "        \n",
    "\n",
    "    def forward(self, x: Tensor) -> Tensor:\n",
    "        return self.linear(x)"
   ]
  },
  {
   "cell_type": "code",
   "execution_count": 12,
   "metadata": {},
   "outputs": [],
   "source": [
    "# Create an aproximator\n",
    "aproximator = Aproximator(input_size=4, output_size=2)\n",
    "# Optimizer\n",
    "optimizer = torch.optim.SGD(aproximator.parameters(), lr=0.01)"
   ]
  },
  {
   "cell_type": "code",
   "execution_count": null,
   "metadata": {},
   "outputs": [],
   "source": []
  }
 ],
 "metadata": {
  "interpreter": {
   "hash": "9959ff5f32156e0cf7dac289ef19934d83d6682069a91d09f149d6e400481571"
  },
  "kernelspec": {
   "display_name": "Python 3.10.0 ('ml')",
   "language": "python",
   "name": "python3"
  },
  "language_info": {
   "codemirror_mode": {
    "name": "ipython",
    "version": 3
   },
   "file_extension": ".py",
   "mimetype": "text/x-python",
   "name": "python",
   "nbconvert_exporter": "python",
   "pygments_lexer": "ipython3",
   "version": "3.10.0"
  },
  "orig_nbformat": 4
 },
 "nbformat": 4,
 "nbformat_minor": 2
}
