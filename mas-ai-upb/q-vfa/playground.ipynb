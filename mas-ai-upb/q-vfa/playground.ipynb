{
 "cells": [
  {
   "cell_type": "markdown",
   "metadata": {},
   "source": [
    "## Q leaning with value function aproximation"
   ]
  },
  {
   "cell_type": "code",
   "execution_count": 32,
   "metadata": {},
   "outputs": [
    {
     "name": "stdout",
     "output_type": "stream",
     "text": [
      "Requirement already satisfied: tensorboard in c:\\users\\popescu andrei\\anaconda3\\envs\\ml\\lib\\site-packages (2.8.0)\n",
      "Requirement already satisfied: absl-py>=0.4 in c:\\users\\popescu andrei\\anaconda3\\envs\\ml\\lib\\site-packages (from tensorboard) (1.0.0)\n",
      "Requirement already satisfied: google-auth-oauthlib<0.5,>=0.4.1 in c:\\users\\popescu andrei\\anaconda3\\envs\\ml\\lib\\site-packages (from tensorboard) (0.4.6)\n",
      "Requirement already satisfied: werkzeug>=0.11.15 in c:\\users\\popescu andrei\\anaconda3\\envs\\ml\\lib\\site-packages (from tensorboard) (2.1.1)\n",
      "Requirement already satisfied: grpcio>=1.24.3 in c:\\users\\popescu andrei\\anaconda3\\envs\\ml\\lib\\site-packages (from tensorboard) (1.44.0)\n",
      "Requirement already satisfied: tensorboard-data-server<0.7.0,>=0.6.0 in c:\\users\\popescu andrei\\anaconda3\\envs\\ml\\lib\\site-packages (from tensorboard) (0.6.1)\n",
      "Requirement already satisfied: wheel>=0.26 in c:\\users\\popescu andrei\\anaconda3\\envs\\ml\\lib\\site-packages (from tensorboard) (0.37.1)\n",
      "Requirement already satisfied: google-auth<3,>=1.6.3 in c:\\users\\popescu andrei\\anaconda3\\envs\\ml\\lib\\site-packages (from tensorboard) (2.6.3)\n",
      "Requirement already satisfied: requests<3,>=2.21.0 in c:\\users\\popescu andrei\\anaconda3\\envs\\ml\\lib\\site-packages (from tensorboard) (2.27.1)\n",
      "Requirement already satisfied: numpy>=1.12.0 in c:\\users\\popescu andrei\\anaconda3\\envs\\ml\\lib\\site-packages (from tensorboard) (1.22.1)\n",
      "Requirement already satisfied: setuptools>=41.0.0 in c:\\users\\popescu andrei\\anaconda3\\envs\\ml\\lib\\site-packages (from tensorboard) (62.0.0)\n",
      "Requirement already satisfied: protobuf>=3.6.0 in c:\\users\\popescu andrei\\anaconda3\\envs\\ml\\lib\\site-packages (from tensorboard) (3.20.0)\n",
      "Requirement already satisfied: tensorboard-plugin-wit>=1.6.0 in c:\\users\\popescu andrei\\anaconda3\\envs\\ml\\lib\\site-packages (from tensorboard) (1.8.1)\n",
      "Requirement already satisfied: markdown>=2.6.8 in c:\\users\\popescu andrei\\anaconda3\\envs\\ml\\lib\\site-packages (from tensorboard) (3.3.6)\n",
      "Requirement already satisfied: six in c:\\users\\popescu andrei\\anaconda3\\envs\\ml\\lib\\site-packages (from absl-py>=0.4->tensorboard) (1.16.0)\n",
      "Requirement already satisfied: pyasn1-modules>=0.2.1 in c:\\users\\popescu andrei\\anaconda3\\envs\\ml\\lib\\site-packages (from google-auth<3,>=1.6.3->tensorboard) (0.2.8)\n",
      "Requirement already satisfied: rsa<5,>=3.1.4 in c:\\users\\popescu andrei\\anaconda3\\envs\\ml\\lib\\site-packages (from google-auth<3,>=1.6.3->tensorboard) (4.8)\n",
      "Requirement already satisfied: cachetools<6.0,>=2.0.0 in c:\\users\\popescu andrei\\anaconda3\\envs\\ml\\lib\\site-packages (from google-auth<3,>=1.6.3->tensorboard) (5.0.0)\n",
      "Requirement already satisfied: requests-oauthlib>=0.7.0 in c:\\users\\popescu andrei\\anaconda3\\envs\\ml\\lib\\site-packages (from google-auth-oauthlib<0.5,>=0.4.1->tensorboard) (1.3.1)\n",
      "Requirement already satisfied: charset-normalizer~=2.0.0 in c:\\users\\popescu andrei\\anaconda3\\envs\\ml\\lib\\site-packages (from requests<3,>=2.21.0->tensorboard) (2.0.12)\n",
      "Requirement already satisfied: certifi>=2017.4.17 in c:\\users\\popescu andrei\\anaconda3\\envs\\ml\\lib\\site-packages (from requests<3,>=2.21.0->tensorboard) (2020.6.20)\n",
      "Requirement already satisfied: idna<4,>=2.5 in c:\\users\\popescu andrei\\anaconda3\\envs\\ml\\lib\\site-packages (from requests<3,>=2.21.0->tensorboard) (3.3)\n",
      "Requirement already satisfied: urllib3<1.27,>=1.21.1 in c:\\users\\popescu andrei\\anaconda3\\envs\\ml\\lib\\site-packages (from requests<3,>=2.21.0->tensorboard) (1.26.9)\n",
      "Requirement already satisfied: pyasn1<0.5.0,>=0.4.6 in c:\\users\\popescu andrei\\anaconda3\\envs\\ml\\lib\\site-packages (from pyasn1-modules>=0.2.1->google-auth<3,>=1.6.3->tensorboard) (0.4.8)\n",
      "Requirement already satisfied: oauthlib>=3.0.0 in c:\\users\\popescu andrei\\anaconda3\\envs\\ml\\lib\\site-packages (from requests-oauthlib>=0.7.0->google-auth-oauthlib<0.5,>=0.4.1->tensorboard) (3.2.0)\n"
     ]
    }
   ],
   "source": [
    "import numpy as np\n",
    "import gym\n",
    "from gym import Env\n",
    "import torch\n",
    "import torch.nn as nn\n",
    "import seaborn as sns\n",
    "import matplotlib.pyplot as plt\n",
    "from torch import Tensor\n",
    "import torch.nn.functional as F\n",
    "from torch.optim import Optimizer, SGD\n",
    "from sklearn.preprocessing import StandardScaler\n",
    "from sklearn.pipeline import Pipeline, FeatureUnion\n",
    "from sklearn.kernel_approximation import RBFSampler\n",
    "\n",
    "# Logging in a good format\n",
    "! pip install tensorboard\n",
    "from torch.utils.tensorboard import SummaryWriter\n",
    "\n",
    "from typing import Callable\n",
    "import itertools\n"
   ]
  },
  {
   "cell_type": "markdown",
   "metadata": {},
   "source": [
    "### The sate of the environment \n",
    "- x: the car position\n",
    "- v: the linear speed of the car\n",
    "- theta: the angle of the pole\n",
    "- omega: the angular velocilty of the pole"
   ]
  },
  {
   "cell_type": "code",
   "execution_count": 33,
   "metadata": {},
   "outputs": [
    {
     "name": "stdout",
     "output_type": "stream",
     "text": [
      "[4.8000002e+00 3.4028235e+38 4.1887903e-01 3.4028235e+38]\n",
      "[-4.8000002e+00 -3.4028235e+38 -4.1887903e-01 -3.4028235e+38]\n"
     ]
    }
   ],
   "source": [
    "env = gym.make('CartPole-v1')\n",
    "env.reset()\n",
    "\n",
    "# Min and max values for each dimension\n",
    "print(env.observation_space.high)\n",
    "print(env.observation_space.low)"
   ]
  },
  {
   "cell_type": "code",
   "execution_count": 34,
   "metadata": {},
   "outputs": [
    {
     "name": "stderr",
     "output_type": "stream",
     "text": [
      "C:\\Users\\Popescu Andrei\\anaconda3\\envs\\ml\\lib\\site-packages\\numpy\\core\\_methods.py:179: RuntimeWarning: overflow encountered in reduce\n",
      "  ret = umr_sum(arr, axis, dtype, out, keepdims, where=where)\n",
      "C:\\Users\\Popescu Andrei\\anaconda3\\envs\\ml\\lib\\site-packages\\numpy\\core\\_methods.py:212: RuntimeWarning: overflow encountered in reduce\n",
      "  arrmean = umr_sum(arr, axis, dtype, keepdims=True, where=where)\n"
     ]
    }
   ],
   "source": [
    "observation_samples = np.array([env.observation_space.sample() for x in range(1000)]) \n",
    "\n",
    "# too many states generates overflow in dist paramas computation\n",
    "\n",
    "mean_states = observation_samples.mean(axis=0)\n",
    "std_states = observation_samples.std(axis=0)\n",
    "\n",
    "def normalize_state(state: Tensor) -> Tensor:\n",
    "    return (state - torch.from_numpy(mean_states)) / torch.from_numpy(std_states)\n",
    "    "
   ]
  },
  {
   "cell_type": "code",
   "execution_count": 193,
   "metadata": {},
   "outputs": [],
   "source": [
    "class Aproximator(nn.Module):\n",
    "    def __init__(self, input_size: int, output_size: int) -> None:\n",
    "        super(Aproximator, self).__init__()\n",
    "        \n",
    "        # Perform a small linear transformation to make sure that we have some information gain\n",
    "        self.net = nn.Sequential(\n",
    "            nn.Linear(in_features=input_size, out_features=output_size * 2, bias=True),\n",
    "            nn.ReLU(),\n",
    "            nn.Linear(in_features=output_size * 2, out_features=output_size, bias=True),\n",
    "            nn.ReLU()\n",
    "        )\n",
    "        \n",
    "    def encoder(self, x: Tensor) -> Tensor:\n",
    "        # The state featurizer\n",
    "        pass\n",
    "        \n",
    "    \n",
    "    def forward(self, x: np.ndarray) -> Tensor:\n",
    "        x = torch.from_numpy(x)\n",
    "        return self.net(x)"
   ]
  },
  {
   "cell_type": "markdown",
   "metadata": {},
   "source": [
    "## Epsilon greedy policy function"
   ]
  },
  {
   "cell_type": "code",
   "execution_count": 194,
   "metadata": {},
   "outputs": [],
   "source": [
    "def epsilon_greedy_policy(aproximator: Aproximator, eps: float, number_of_actions: int) -> Callable:\n",
    "    \n",
    "    def policy_fn(observation: np.ndarray) -> np.ndarray:\n",
    "        A = np.ones(number_of_actions, dtype=float) * eps / number_of_actions\n",
    "        q_values = aproximator(observation)\n",
    "        best_action = np.argmax(q_values.detach().numpy())\n",
    "        A[best_action] += (1.0 - eps)\n",
    "        return A\n",
    "    \n",
    "    return policy_fn"
   ]
  },
  {
   "cell_type": "markdown",
   "metadata": {},
   "source": [
    "## Q learning "
   ]
  },
  {
   "cell_type": "code",
   "execution_count": 195,
   "metadata": {},
   "outputs": [],
   "source": [
    "def q_learning( env: Env, \n",
    "                aproximator: Aproximator,\n",
    "                optimizer: Optimizer,\n",
    "                num_epochs: int, \n",
    "                gamma: float = 0.9, # default discount factor \n",
    "                eps: float = 0.1,\n",
    "                eps_decay_factor: float = 0.9 # for eps decay\n",
    "              ):\n",
    "    \n",
    "    # Create a loss function for the aproximator\n",
    "    loss_fn = torch.nn.MSELoss()\n",
    "    losses = []\n",
    "    for epoch in range(num_epochs):\n",
    "        \n",
    "        policy = epsilon_greedy_policy(\n",
    "            aproximator=aproximator, \n",
    "            eps=eps * eps_decay_factor**epoch, \n",
    "            number_of_actions=env.action_space.n\n",
    "        )\n",
    "        \n",
    "        state = env.reset()\n",
    "        \n",
    "        for t in itertools.count():\n",
    "            \n",
    "            action_probabilities = policy(state)\n",
    "            action = np.random.choice(np.arange(len(action_probabilities)), p=action_probabilities)\n",
    "            \n",
    "            next_state, reward, end, _ = env.step(action)\n",
    "            \n",
    "            q_values_next = aproximator(next_state)\n",
    "            td_target = reward + gamma * torch.max(q_values_next)\n",
    "            \n",
    "            loss = F.mse_loss(td_target, torch.max(q_values_next))\n",
    "            \n",
    "            optimizer.zero_grad()\n",
    "            loss.backward()\n",
    "            optimizer.step()\n",
    "               \n",
    "                \n",
    "            losses.append(loss.detach().numpy().item())\n",
    "            \n",
    "            if epoch % 1000 == 0:\n",
    "                print(\"\\rStep {} @ Episode {}/{} ({})\".format(t, epoch + 1, num_epochs, reward))\n",
    "                \n",
    "            if end:\n",
    "                break\n",
    "                \n",
    "            state = next_state\n",
    "    return losses"
   ]
  },
  {
   "cell_type": "code",
   "execution_count": 196,
   "metadata": {},
   "outputs": [],
   "source": [
    "aproximator = Aproximator(input_size=4, output_size=2)"
   ]
  },
  {
   "cell_type": "code",
   "execution_count": 197,
   "metadata": {},
   "outputs": [],
   "source": [
    "optimizer = SGD(params=aproximator.parameters(), lr=1e-3)"
   ]
  },
  {
   "cell_type": "code",
   "execution_count": 198,
   "metadata": {},
   "outputs": [
    {
     "name": "stdout",
     "output_type": "stream",
     "text": [
      "\r",
      "Step 0 @ Episode 1/1000 (1.0)\n",
      "\r",
      "Step 1 @ Episode 1/1000 (1.0)\n",
      "\r",
      "Step 2 @ Episode 1/1000 (1.0)\n",
      "\r",
      "Step 3 @ Episode 1/1000 (1.0)\n",
      "\r",
      "Step 4 @ Episode 1/1000 (1.0)\n",
      "\r",
      "Step 5 @ Episode 1/1000 (1.0)\n",
      "\r",
      "Step 6 @ Episode 1/1000 (1.0)\n",
      "\r",
      "Step 7 @ Episode 1/1000 (1.0)\n",
      "\r",
      "Step 8 @ Episode 1/1000 (1.0)\n"
     ]
    },
    {
     "data": {
      "text/plain": [
       "[<matplotlib.lines.Line2D at 0x24a1f16c2b0>]"
      ]
     },
     "execution_count": 198,
     "metadata": {},
     "output_type": "execute_result"
    },
    {
     "data": {
      "image/png": "[encoded data removed]",
      "text/plain": [
       "<Figure size 432x288 with 1 Axes>"
      ]
     },
     "metadata": {
      "needs_background": "light"
     },
     "output_type": "display_data"
    }
   ],
   "source": [
    "losses = q_learning(aproximator=aproximator, optimizer=optimizer, env=env, num_epochs=1000)\n",
    "plt.plot([i for i in range(len(losses))], losses)"
   ]
  },
  {
   "cell_type": "markdown",
   "metadata": {},
   "source": [
    "- [ ] plot episodes reward over time\n",
    "- [ ] resolve training problems and featurizer function (embedding for state)\n",
    "- [ ] resolve small renderer "
   ]
  },
  {
   "cell_type": "code",
   "execution_count": 199,
   "metadata": {},
   "outputs": [
    {
     "data": {
      "text/plain": [
       "True"
      ]
     },
     "execution_count": 199,
     "metadata": {},
     "output_type": "execute_result"
    },
    {
     "data": {
      "image/png": "[encoded data removed]",
      "text/plain": [
       "<Figure size 432x288 with 1 Axes>"
      ]
     },
     "metadata": {
      "needs_background": "light"
     },
     "output_type": "display_data"
    },
    {
     "data": {
      "image/png": "[encoded data removed]",
      "text/plain": [
       "<Figure size 432x288 with 1 Axes>"
      ]
     },
     "metadata": {
      "needs_background": "light"
     },
     "output_type": "display_data"
    },
    {
     "data": {
      "image/png": "[encoded data removed]",
      "text/plain": [
       "<Figure size 432x288 with 1 Axes>"
      ]
     },
     "metadata": {
      "needs_background": "light"
     },
     "output_type": "display_data"
    },
    {
     "data": {
      "image/png": "[encoded data removed]",
      "text/plain": [
       "<Figure size 432x288 with 1 Axes>"
      ]
     },
     "metadata": {
      "needs_background": "light"
     },
     "output_type": "display_data"
    },
    {
     "data": {
      "image/png": "[encoded data removed]",
      "text/plain": [
       "<Figure size 432x288 with 1 Axes>"
      ]
     },
     "metadata": {
      "needs_background": "light"
     },
     "output_type": "display_data"
    },
    {
     "data": {
      "image/png": "[encoded data removed]",
      "text/plain": [
       "<Figure size 432x288 with 1 Axes>"
      ]
     },
     "metadata": {
      "needs_background": "light"
     },
     "output_type": "display_data"
    },
    {
     "data": {
      "image/png": "[encoded data removed]",
      "text/plain": [
       "<Figure size 432x288 with 1 Axes>"
      ]
     },
     "metadata": {
      "needs_background": "light"
     },
     "output_type": "display_data"
    },
    {
     "data": {
      "image/png": "[encoded data removed]",
      "text/plain": [
       "<Figure size 432x288 with 1 Axes>"
      ]
     },
     "metadata": {
      "needs_background": "light"
     },
     "output_type": "display_data"
    },
    {
     "data": {
      "image/png": "[encoded data removed]",
      "text/plain": [
       "<Figure size 432x288 with 1 Axes>"
      ]
     },
     "metadata": {
      "needs_background": "light"
     },
     "output_type": "display_data"
    },
    {
     "data": {
      "image/png": "[encoded data removed]",
      "text/plain": [
       "<Figure size 432x288 with 1 Axes>"
      ]
     },
     "metadata": {
      "needs_background": "light"
     },
     "output_type": "display_data"
    }
   ],
   "source": [
    "state = env.reset()\n",
    "plt.figure()\n",
    "plt.imshow(env.render(mode='rgb_array'))\n",
    "while(True):\n",
    "    q_values = aproximator(state).detach().numpy()\n",
    "    best_action = np.argmax(q_values)\n",
    "    plt.figure()\n",
    "    plt.imshow(env.render(mode='rgb_array'))\n",
    "    \n",
    "    next_state, reward, end, _ = env.step(best_action)\n",
    "    if end:\n",
    "        break\n",
    "        \n",
    "    state = next_state\n",
    "    env.render()\n",
    "env.render()"
   ]
  },
  {
   "cell_type": "code",
   "execution_count": null,
   "metadata": {},
   "outputs": [],
   "source": []
  }
 ],
 "metadata": {
  "interpreter": {
   "hash": "9959ff5f32156e0cf7dac289ef19934d83d6682069a91d09f149d6e400481571"
  },
  "kernelspec": {
   "display_name": "Python 3 (ipykernel)",
   "language": "python",
   "name": "python3"
  },
  "language_info": {
   "codemirror_mode": {
    "name": "ipython",
    "version": 3
   },
   "file_extension": ".py",
   "mimetype": "text/x-python",
   "name": "python",
   "nbconvert_exporter": "python",
   "pygments_lexer": "ipython3",
   "version": "3.10.0"
  }
 },
 "nbformat": 4,
 "nbformat_minor": 2
}
